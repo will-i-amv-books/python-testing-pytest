{
 "cells": [
  {
   "cell_type": "markdown",
   "metadata": {},
   "source": [
    "# Getting Started with pytest\n"
   ]
  },
  {
   "cell_type": "code",
   "execution_count": 1,
   "metadata": {},
   "outputs": [
    {
     "data": {
      "text/plain": [
       "'\\n%pip install pytest\\n'"
      ]
     },
     "execution_count": 1,
     "metadata": {},
     "output_type": "execute_result"
    }
   ],
   "source": [
    "# First, install pytest\n",
    "\n",
    "\"\"\"\n",
    "%pip install pytest\n",
    "\"\"\"\n"
   ]
  },
  {
   "cell_type": "code",
   "execution_count": 2,
   "metadata": {},
   "outputs": [],
   "source": [
    "from collections import namedtuple\n",
    "\n",
    "import pytest"
   ]
  },
  {
   "cell_type": "markdown",
   "metadata": {},
   "source": [
    "Create the files in the tasks folder:\n",
    "* test1.py\n",
    "* test2.py\n",
    "* test3.py\n",
    "* test4.py"
   ]
  },
  {
   "cell_type": "code",
   "execution_count": 3,
   "metadata": {},
   "outputs": [
    {
     "name": "stdout",
     "output_type": "stream",
     "text": [
      "\u001b[1m============================= test session starts ==============================\u001b[0m\n",
      "platform linux -- Python 3.9.5, pytest-7.1.2, pluggy-1.0.0\n",
      "rootdir: /home/william/github/will-i-amv-books/python-testing-pytest/chapter01\n",
      "collected 6 items                                                              \u001b[0m\n",
      "\n",
      "tasks/test_four.py \u001b[32m.\u001b[0m\u001b[32m.\u001b[0m\u001b[33m                                                    [ 33%]\u001b[0m\n",
      "tasks/test_one.py \u001b[32m.\u001b[0m\u001b[33m                                                      [ 50%]\u001b[0m\n",
      "tasks/test_three.py \u001b[32m.\u001b[0m\u001b[32m.\u001b[0m\u001b[33m                                                   [ 83%]\u001b[0m\n",
      "tasks/test_two.py \u001b[31mF\u001b[0m\u001b[31m                                                      [100%]\u001b[0m\n",
      "\n",
      "=================================== FAILURES ===================================\n",
      "\u001b[31m\u001b[1m_________________________________ test_failing _________________________________\u001b[0m\n",
      "\n",
      "    \u001b[94mdef\u001b[39;49;00m \u001b[92mtest_failing\u001b[39;49;00m():\n",
      ">       \u001b[94massert\u001b[39;49;00m (\u001b[94m1\u001b[39;49;00m, \u001b[94m2\u001b[39;49;00m, \u001b[94m3\u001b[39;49;00m) == (\u001b[94m3\u001b[39;49;00m, \u001b[94m2\u001b[39;49;00m, \u001b[94m1\u001b[39;49;00m)\n",
      "\u001b[1m\u001b[31mE       assert (1, 2, 3) == (3, 2, 1)\u001b[0m\n",
      "\u001b[1m\u001b[31mE         At index 0 diff: 1 != 3\u001b[0m\n",
      "\u001b[1m\u001b[31mE         Use -v to get more diff\u001b[0m\n",
      "\n",
      "\u001b[1m\u001b[31mtasks/test_two.py\u001b[0m:2: AssertionError\n",
      "\u001b[33m=============================== warnings summary ===============================\u001b[0m\n",
      "tasks/test_three.py:17\n",
      "  /home/william/github/will-i-amv-books/python-testing-pytest/chapter01/tasks/test_three.py:17: PytestUnknownMarkWarning: Unknown pytest.mark.run_these_please - is this a typo?  You can register custom marks to avoid this warning - for details, see https://docs.pytest.org/en/stable/how-to/mark.html\n",
      "    @pytest.mark.run_these_please\n",
      "\n",
      "-- Docs: https://docs.pytest.org/en/stable/how-to/capture-warnings.html\n",
      "=========================== short test summary info ============================\n",
      "FAILED tasks/test_two.py::test_failing - assert (1, 2, 3) == (3, 2, 1)\n",
      "\u001b[31m==================== \u001b[31m\u001b[1m1 failed\u001b[0m, \u001b[32m5 passed\u001b[0m, \u001b[33m1 warning\u001b[0m\u001b[31m in 0.10s\u001b[0m\u001b[31m ====================\u001b[0m\n"
     ]
    }
   ],
   "source": [
    "# We can run all the tests in the current directory\n",
    "\n",
    "!pytest\n"
   ]
  },
  {
   "cell_type": "code",
   "execution_count": 4,
   "metadata": {},
   "outputs": [
    {
     "name": "stdout",
     "output_type": "stream",
     "text": [
      "\u001b[1m============================= test session starts ==============================\u001b[0m\n",
      "platform linux -- Python 3.9.5, pytest-7.1.2, pluggy-1.0.0\n",
      "rootdir: /home/william/github/will-i-amv-books/python-testing-pytest/chapter01\n",
      "collected 1 item                                                               \u001b[0m\n",
      "\n",
      "tasks/test_one.py \u001b[32m.\u001b[0m\u001b[32m                                                      [100%]\u001b[0m\n",
      "\n",
      "\u001b[32m============================== \u001b[32m\u001b[1m1 passed\u001b[0m\u001b[32m in 0.01s\u001b[0m\u001b[32m ===============================\u001b[0m\n"
     ]
    }
   ],
   "source": [
    "# We can run tests of a specific file\n",
    "\n",
    "!pytest tasks/test_one.py"
   ]
  },
  {
   "cell_type": "code",
   "execution_count": 5,
   "metadata": {},
   "outputs": [
    {
     "name": "stdout",
     "output_type": "stream",
     "text": [
      "\u001b[1m============================= test session starts ==============================\u001b[0m\n",
      "platform linux -- Python 3.9.5, pytest-7.1.2, pluggy-1.0.0\n",
      "rootdir: /home/william/github/will-i-amv-books/python-testing-pytest/chapter01\n",
      "collected 3 items                                                              \u001b[0m\n",
      "\n",
      "tasks/test_one.py \u001b[32m.\u001b[0m\u001b[33m                                                      [ 33%]\u001b[0m\n",
      "tasks/test_three.py \u001b[32m.\u001b[0m\u001b[32m.\u001b[0m\u001b[33m                                                   [100%]\u001b[0m\n",
      "\n",
      "\u001b[33m=============================== warnings summary ===============================\u001b[0m\n",
      "tasks/test_three.py:17\n",
      "  /home/william/github/will-i-amv-books/python-testing-pytest/chapter01/tasks/test_three.py:17: PytestUnknownMarkWarning: Unknown pytest.mark.run_these_please - is this a typo?  You can register custom marks to avoid this warning - for details, see https://docs.pytest.org/en/stable/how-to/mark.html\n",
      "    @pytest.mark.run_these_please\n",
      "\n",
      "-- Docs: https://docs.pytest.org/en/stable/how-to/capture-warnings.html\n",
      "\u001b[33m========================= \u001b[32m3 passed\u001b[0m, \u001b[33m\u001b[1m1 warning\u001b[0m\u001b[33m in 0.01s\u001b[0m\u001b[33m =========================\u001b[0m\n"
     ]
    }
   ],
   "source": [
    "# We can run tests of more than 1 file\n",
    "\n",
    "!pytest tasks/test_one.py tasks/test_three.py"
   ]
  },
  {
   "cell_type": "code",
   "execution_count": 6,
   "metadata": {},
   "outputs": [
    {
     "name": "stdout",
     "output_type": "stream",
     "text": [
      "\u001b[1m============================= test session starts ==============================\u001b[0m\n",
      "platform linux -- Python 3.9.5, pytest-7.1.2, pluggy-1.0.0\n",
      "rootdir: /home/william/github/will-i-amv-books/python-testing-pytest/chapter01\n",
      "collected 1 item                                                               \u001b[0m\n",
      "\n",
      "tasks/test_four.py \u001b[32m.\u001b[0m\u001b[32m                                                     [100%]\u001b[0m\n",
      "\n",
      "\u001b[32m============================== \u001b[32m\u001b[1m1 passed\u001b[0m\u001b[32m in 0.00s\u001b[0m\u001b[32m ===============================\u001b[0m\n"
     ]
    }
   ],
   "source": [
    "# We can run only specific tests from a file\n",
    "\n",
    "!pytest  tasks/test_four.py::test_asdict\n"
   ]
  },
  {
   "cell_type": "markdown",
   "metadata": {},
   "source": [
    "### Using Options\n"
   ]
  },
  {
   "cell_type": "code",
   "execution_count": 7,
   "metadata": {},
   "outputs": [
    {
     "name": "stdout",
     "output_type": "stream",
     "text": [
      "\u001b[1m============================= test session starts ==============================\u001b[0m\n",
      "platform linux -- Python 3.9.5, pytest-7.1.2, pluggy-1.0.0\n",
      "rootdir: /home/william/github/will-i-amv-books/python-testing-pytest/chapter01\n",
      "collected 6 items                                                              \u001b[0m\n",
      "\n",
      "<Module tasks/test_four.py>\n",
      "  <Function test_asdict>\n",
      "  <Function test_replace>\n",
      "<Module tasks/test_one.py>\n",
      "  <Function test_passing>\n",
      "<Module tasks/test_three.py>\n",
      "  <Function test_defaults>\n",
      "  <Function test_member_access>\n",
      "<Module tasks/test_two.py>\n",
      "  <Function test_failing>\n",
      "\n",
      "\u001b[33m=============================== warnings summary ===============================\u001b[0m\n",
      "tasks/test_three.py:17\n",
      "  /home/william/github/will-i-amv-books/python-testing-pytest/chapter01/tasks/test_three.py:17: PytestUnknownMarkWarning: Unknown pytest.mark.run_these_please - is this a typo?  You can register custom marks to avoid this warning - for details, see https://docs.pytest.org/en/stable/how-to/mark.html\n",
      "    @pytest.mark.run_these_please\n",
      "\n",
      "-- Docs: https://docs.pytest.org/en/stable/how-to/capture-warnings.html\n",
      "\u001b[32m========================== \u001b[32m6 tests collected\u001b[0m\u001b[32m in 0.01s\u001b[0m\u001b[32m ==========================\u001b[0m\n"
     ]
    }
   ],
   "source": [
    "# The --collect-only option shows the tests that will be run with their options and configuration.\n",
    "\n",
    "!pytest --collect-only\n"
   ]
  },
  {
   "cell_type": "code",
   "execution_count": 8,
   "metadata": {},
   "outputs": [
    {
     "name": "stdout",
     "output_type": "stream",
     "text": [
      "\u001b[1m============================= test session starts ==============================\u001b[0m\n",
      "platform linux -- Python 3.9.5, pytest-7.1.2, pluggy-1.0.0\n",
      "rootdir: /home/william/github/will-i-amv-books/python-testing-pytest/chapter01\n",
      "collected 6 items / 4 deselected / 2 selected                                  \u001b[0m\n",
      "\n",
      "<Module tasks/test_four.py>\n",
      "  <Function test_asdict>\n",
      "<Module tasks/test_three.py>\n",
      "  <Function test_defaults>\n",
      "\n",
      "\u001b[33m=============================== warnings summary ===============================\u001b[0m\n",
      "tasks/test_three.py:17\n",
      "  /home/william/github/will-i-amv-books/python-testing-pytest/chapter01/tasks/test_three.py:17: PytestUnknownMarkWarning: Unknown pytest.mark.run_these_please - is this a typo?  You can register custom marks to avoid this warning - for details, see https://docs.pytest.org/en/stable/how-to/mark.html\n",
      "    @pytest.mark.run_these_please\n",
      "\n",
      "-- Docs: https://docs.pytest.org/en/stable/how-to/capture-warnings.html\n",
      "\u001b[32m================= \u001b[32m2/6 tests collected (4 deselected)\u001b[0m\u001b[32m in 0.01s\u001b[0m\u001b[32m ==================\u001b[0m\n"
     ]
    }
   ],
   "source": [
    "# The -k option allows the use of an expression to find what test functions to run.\n",
    "\n",
    "!pytest -k \"asdict or defaults\" --collect-only\n"
   ]
  },
  {
   "cell_type": "code",
   "execution_count": 9,
   "metadata": {},
   "outputs": [
    {
     "name": "stdout",
     "output_type": "stream",
     "text": [
      "\u001b[1m============================= test session starts ==============================\u001b[0m\n",
      "platform linux -- Python 3.9.5, pytest-7.1.2, pluggy-1.0.0\n",
      "rootdir: /home/william/github/will-i-amv-books/python-testing-pytest/chapter01\n",
      "collected 6 items / 5 deselected / 1 selected                                  \u001b[0m\n",
      "\n",
      "tasks/test_three.py \u001b[32m.\u001b[0m\u001b[33m                                                    [100%]\u001b[0m\n",
      "\n",
      "\u001b[33m=============================== warnings summary ===============================\u001b[0m\n",
      "tasks/test_three.py:17\n",
      "  /home/william/github/will-i-amv-books/python-testing-pytest/chapter01/tasks/test_three.py:17: PytestUnknownMarkWarning: Unknown pytest.mark.run_these_please - is this a typo?  You can register custom marks to avoid this warning - for details, see https://docs.pytest.org/en/stable/how-to/mark.html\n",
      "    @pytest.mark.run_these_please\n",
      "\n",
      "-- Docs: https://docs.pytest.org/en/stable/how-to/capture-warnings.html\n",
      "\u001b[33m================== \u001b[32m1 passed\u001b[0m, \u001b[33m\u001b[1m5 deselected\u001b[0m, \u001b[33m\u001b[1m1 warning\u001b[0m\u001b[33m in 0.01s\u001b[0m\u001b[33m ==================\u001b[0m\n"
     ]
    }
   ],
   "source": [
    "# The -m option allows the use of markers, which allows us to run \n",
    "# a subset of the test functions that have the marker name.\n",
    "\n",
    "!pytest -m run_these_please\n"
   ]
  },
  {
   "cell_type": "code",
   "execution_count": 10,
   "metadata": {},
   "outputs": [
    {
     "name": "stdout",
     "output_type": "stream",
     "text": [
      "\u001b[1m============================= test session starts ==============================\u001b[0m\n",
      "platform linux -- Python 3.9.5, pytest-7.1.2, pluggy-1.0.0\n",
      "rootdir: /home/william/github/will-i-amv-books/python-testing-pytest/chapter01\n",
      "collected 6 items                                                              \u001b[0m\n",
      "\n",
      "tasks/test_four.py \u001b[32m.\u001b[0m\u001b[32m.\u001b[0m\u001b[33m                                                    [ 33%]\u001b[0m\n",
      "tasks/test_one.py \u001b[32m.\u001b[0m\u001b[33m                                                      [ 50%]\u001b[0m\n",
      "tasks/test_three.py \u001b[32m.\u001b[0m\u001b[32m.\u001b[0m\u001b[33m                                                   [ 83%]\u001b[0m\n",
      "tasks/test_two.py \u001b[31mF\u001b[0m\u001b[31m                                                      [100%]\u001b[0m\n",
      "\n",
      "=================================== FAILURES ===================================\n",
      "\u001b[31m\u001b[1m_________________________________ test_failing _________________________________\u001b[0m\n",
      "\n",
      "    \u001b[94mdef\u001b[39;49;00m \u001b[92mtest_failing\u001b[39;49;00m():\n",
      ">       \u001b[94massert\u001b[39;49;00m (\u001b[94m1\u001b[39;49;00m, \u001b[94m2\u001b[39;49;00m, \u001b[94m3\u001b[39;49;00m) == (\u001b[94m3\u001b[39;49;00m, \u001b[94m2\u001b[39;49;00m, \u001b[94m1\u001b[39;49;00m)\n",
      "\u001b[1m\u001b[31mE       assert (1, 2, 3) == (3, 2, 1)\u001b[0m\n",
      "\u001b[1m\u001b[31mE         At index 0 diff: 1 != 3\u001b[0m\n",
      "\u001b[1m\u001b[31mE         Use -v to get more diff\u001b[0m\n",
      "\n",
      "\u001b[1m\u001b[31mtasks/test_two.py\u001b[0m:2: AssertionError\n",
      "\u001b[33m=============================== warnings summary ===============================\u001b[0m\n",
      "tasks/test_three.py:17\n",
      "  /home/william/github/will-i-amv-books/python-testing-pytest/chapter01/tasks/test_three.py:17: PytestUnknownMarkWarning: Unknown pytest.mark.run_these_please - is this a typo?  You can register custom marks to avoid this warning - for details, see https://docs.pytest.org/en/stable/how-to/mark.html\n",
      "    @pytest.mark.run_these_please\n",
      "\n",
      "-- Docs: https://docs.pytest.org/en/stable/how-to/capture-warnings.html\n",
      "=========================== short test summary info ============================\n",
      "FAILED tasks/test_two.py::test_failing - assert (1, 2, 3) == (3, 2, 1)\n",
      "\u001b[31m!!!!!!!!!!!!!!!!!!!!!!!!!! stopping after 1 failures !!!!!!!!!!!!!!!!!!!!!!!!!!!\u001b[0m\n",
      "\u001b[31m==================== \u001b[31m\u001b[1m1 failed\u001b[0m, \u001b[32m5 passed\u001b[0m, \u001b[33m1 warning\u001b[0m\u001b[31m in 0.07s\u001b[0m\u001b[31m ====================\u001b[0m\n"
     ]
    }
   ],
   "source": [
    "# The -x option stops the entire test session immediately when a test fails.\n",
    "\n",
    "!pytest -x"
   ]
  },
  {
   "cell_type": "code",
   "execution_count": 11,
   "metadata": {},
   "outputs": [
    {
     "name": "stdout",
     "output_type": "stream",
     "text": [
      "\u001b[1m============================= test session starts ==============================\u001b[0m\n",
      "platform linux -- Python 3.9.5, pytest-7.1.2, pluggy-1.0.0\n",
      "rootdir: /home/william/github/will-i-amv-books/python-testing-pytest/chapter01\n",
      "collected 6 items                                                              \u001b[0m\n",
      "\n",
      "tasks/test_four.py \u001b[32m.\u001b[0m\u001b[32m.\u001b[0m\u001b[33m                                                    [ 33%]\u001b[0m\n",
      "tasks/test_one.py \u001b[32m.\u001b[0m\u001b[33m                                                      [ 50%]\u001b[0m\n",
      "tasks/test_three.py \u001b[32m.\u001b[0m\u001b[32m.\u001b[0m\u001b[33m                                                   [ 83%]\u001b[0m\n",
      "tasks/test_two.py \u001b[31mF\u001b[0m\u001b[31m                                                      [100%]\u001b[0m\n",
      "\n",
      "\u001b[33m=============================== warnings summary ===============================\u001b[0m\n",
      "tasks/test_three.py:17\n",
      "  /home/william/github/will-i-amv-books/python-testing-pytest/chapter01/tasks/test_three.py:17: PytestUnknownMarkWarning: Unknown pytest.mark.run_these_please - is this a typo?  You can register custom marks to avoid this warning - for details, see https://docs.pytest.org/en/stable/how-to/mark.html\n",
      "    @pytest.mark.run_these_please\n",
      "\n",
      "-- Docs: https://docs.pytest.org/en/stable/how-to/capture-warnings.html\n",
      "=========================== short test summary info ============================\n",
      "FAILED tasks/test_two.py::test_failing - assert (1, 2, 3) == (3, 2, 1)\n",
      "\u001b[31m==================== \u001b[31m\u001b[1m1 failed\u001b[0m, \u001b[32m5 passed\u001b[0m, \u001b[33m1 warning\u001b[0m\u001b[31m in 0.02s\u001b[0m\u001b[31m ====================\u001b[0m\n"
     ]
    }
   ],
   "source": [
    "# The --maxfail option specifies how many failures will be allowed\n",
    "# before stopping the session.\n",
    "\n",
    "!pytest --maxfail=2 --tb=no # tb turns off the stack trace\n"
   ]
  },
  {
   "cell_type": "code",
   "execution_count": 12,
   "metadata": {},
   "outputs": [
    {
     "name": "stdout",
     "output_type": "stream",
     "text": [
      "\u001b[1m============================= test session starts ==============================\u001b[0m\n",
      "platform linux -- Python 3.9.5, pytest-7.1.2, pluggy-1.0.0\n",
      "rootdir: /home/william/github/will-i-amv-books/python-testing-pytest/chapter01\n",
      "collected 1 item                                                               \u001b[0m\n",
      "run-last-failure: rerun previous 1 failure (skipped 3 files)\n",
      "\n",
      "tasks/test_two.py \u001b[31mF\u001b[0m\u001b[31m                                                      [100%]\u001b[0m\n",
      "\n",
      "=================================== FAILURES ===================================\n",
      "\u001b[31m\u001b[1m_________________________________ test_failing _________________________________\u001b[0m\n",
      "\n",
      "    \u001b[94mdef\u001b[39;49;00m \u001b[92mtest_failing\u001b[39;49;00m():\n",
      ">       \u001b[94massert\u001b[39;49;00m (\u001b[94m1\u001b[39;49;00m, \u001b[94m2\u001b[39;49;00m, \u001b[94m3\u001b[39;49;00m) == (\u001b[94m3\u001b[39;49;00m, \u001b[94m2\u001b[39;49;00m, \u001b[94m1\u001b[39;49;00m)\n",
      "\u001b[1m\u001b[31mE       assert (1, 2, 3) == (3, 2, 1)\u001b[0m\n",
      "\u001b[1m\u001b[31mE         At index 0 diff: 1 != 3\u001b[0m\n",
      "\u001b[1m\u001b[31mE         Use -v to get more diff\u001b[0m\n",
      "\n",
      "\u001b[1m\u001b[31mtasks/test_two.py\u001b[0m:2: AssertionError\n",
      "=========================== short test summary info ============================\n",
      "FAILED tasks/test_two.py::test_failing - assert (1, 2, 3) == (3, 2, 1)\n",
      "\u001b[31m============================== \u001b[31m\u001b[1m1 failed\u001b[0m\u001b[31m in 0.06s\u001b[0m\u001b[31m ===============================\u001b[0m\n"
     ]
    }
   ],
   "source": [
    "# The --lf option run just the failing tests\n",
    "\n",
    "!pytest --lf\n"
   ]
  },
  {
   "cell_type": "code",
   "execution_count": 13,
   "metadata": {},
   "outputs": [
    {
     "name": "stdout",
     "output_type": "stream",
     "text": [
      "\u001b[1m============================= test session starts ==============================\u001b[0m\n",
      "platform linux -- Python 3.9.5, pytest-7.1.2, pluggy-1.0.0\n",
      "rootdir: /home/william/github/will-i-amv-books/python-testing-pytest/chapter01\n",
      "collected 6 items                                                              \u001b[0m\n",
      "run-last-failure: rerun previous 1 failure first\n",
      "\n",
      "tasks/test_two.py \u001b[31mF\u001b[0m\u001b[31m                                                      [ 16%]\u001b[0m\n",
      "tasks/test_four.py \u001b[32m.\u001b[0m\u001b[32m.\u001b[0m\u001b[31m                                                    [ 50%]\u001b[0m\n",
      "tasks/test_one.py \u001b[32m.\u001b[0m\u001b[31m                                                      [ 66%]\u001b[0m\n",
      "tasks/test_three.py \u001b[32m.\u001b[0m\u001b[32m.\u001b[0m\u001b[31m                                                   [100%]\u001b[0m\n",
      "\n",
      "\u001b[33m=============================== warnings summary ===============================\u001b[0m\n",
      "tasks/test_three.py:17\n",
      "  /home/william/github/will-i-amv-books/python-testing-pytest/chapter01/tasks/test_three.py:17: PytestUnknownMarkWarning: Unknown pytest.mark.run_these_please - is this a typo?  You can register custom marks to avoid this warning - for details, see https://docs.pytest.org/en/stable/how-to/mark.html\n",
      "    @pytest.mark.run_these_please\n",
      "\n",
      "-- Docs: https://docs.pytest.org/en/stable/how-to/capture-warnings.html\n",
      "=========================== short test summary info ============================\n",
      "FAILED tasks/test_two.py::test_failing - assert (1, 2, 3) == (3, 2, 1)\n",
      "\u001b[31m==================== \u001b[31m\u001b[1m1 failed\u001b[0m, \u001b[32m5 passed\u001b[0m, \u001b[33m1 warning\u001b[0m\u001b[31m in 0.01s\u001b[0m\u001b[31m ====================\u001b[0m\n"
     ]
    }
   ],
   "source": [
    "# The --ff option runs the failing tests first,\n",
    "# and then run the rest of the tests that passed last time:\n",
    "\n",
    "!pytest --ff --tb=no\n"
   ]
  },
  {
   "cell_type": "code",
   "execution_count": 14,
   "metadata": {},
   "outputs": [
    {
     "name": "stdout",
     "output_type": "stream",
     "text": [
      "\u001b[1m============================= test session starts ==============================\u001b[0m\n",
      "platform linux -- Python 3.9.5, pytest-7.1.2, pluggy-1.0.0 -- /home/william/github/will-i-amv-books/python-testing-pytest/env/bin/python3\n",
      "cachedir: .pytest_cache\n",
      "rootdir: /home/william/github/will-i-amv-books/python-testing-pytest/chapter01\n",
      "collected 6 items                                                              \u001b[0m\n",
      "run-last-failure: rerun previous 1 failure first\n",
      "\n",
      "tasks/test_two.py::test_failing \u001b[31mFAILED\u001b[0m\u001b[31m                                   [ 16%]\u001b[0m\n",
      "tasks/test_four.py::test_asdict \u001b[32mPASSED\u001b[0m\u001b[31m                                   [ 33%]\u001b[0m\n",
      "tasks/test_four.py::test_replace \u001b[32mPASSED\u001b[0m\u001b[31m                                  [ 50%]\u001b[0m\n",
      "tasks/test_one.py::test_passing \u001b[32mPASSED\u001b[0m\u001b[31m                                   [ 66%]\u001b[0m\n",
      "tasks/test_three.py::test_defaults \u001b[32mPASSED\u001b[0m\u001b[31m                                [ 83%]\u001b[0m\n",
      "tasks/test_three.py::test_member_access \u001b[32mPASSED\u001b[0m\u001b[31m                           [100%]\u001b[0m\n",
      "\n",
      "\u001b[33m=============================== warnings summary ===============================\u001b[0m\n",
      "tasks/test_three.py:17\n",
      "  /home/william/github/will-i-amv-books/python-testing-pytest/chapter01/tasks/test_three.py:17: PytestUnknownMarkWarning: Unknown pytest.mark.run_these_please - is this a typo?  You can register custom marks to avoid this warning - for details, see https://docs.pytest.org/en/stable/how-to/mark.html\n",
      "    @pytest.mark.run_these_please\n",
      "\n",
      "-- Docs: https://docs.pytest.org/en/stable/how-to/capture-warnings.html\n",
      "=========================== short test summary info ============================\n",
      "FAILED tasks/test_two.py::test_failing - assert (1, 2, 3) == (3, 2, 1)\n",
      "\u001b[31m==================== \u001b[31m\u001b[1m1 failed\u001b[0m, \u001b[32m5 passed\u001b[0m, \u001b[33m1 warning\u001b[0m\u001b[31m in 0.02s\u001b[0m\u001b[31m ====================\u001b[0m\n"
     ]
    }
   ],
   "source": [
    "# The -v/--verbose option reports additional information\n",
    "\n",
    "!pytest -v --ff --tb=no"
   ]
  },
  {
   "cell_type": "code",
   "execution_count": 15,
   "metadata": {},
   "outputs": [
    {
     "name": "stdout",
     "output_type": "stream",
     "text": [
      "\u001b[32m.\u001b[0m\u001b[32m.\u001b[0m\u001b[32m.\u001b[0m\u001b[32m.\u001b[0m\u001b[32m.\u001b[0m\u001b[31mF\u001b[0m\u001b[31m                                                                   [100%]\u001b[0m\n",
      "=================================== FAILURES ===================================\n",
      "/home/william/github/will-i-amv-books/python-testing-pytest/chapter01/tasks/test_two.py:2: assert (1, 2, 3) == (3, 2, 1)\n",
      "\u001b[33m=============================== warnings summary ===============================\u001b[0m\n",
      "tasks/test_three.py:17\n",
      "  /home/william/github/will-i-amv-books/python-testing-pytest/chapter01/tasks/test_three.py:17: PytestUnknownMarkWarning: Unknown pytest.mark.run_these_please - is this a typo?  You can register custom marks to avoid this warning - for details, see https://docs.pytest.org/en/stable/how-to/mark.html\n",
      "    @pytest.mark.run_these_please\n",
      "\n",
      "-- Docs: https://docs.pytest.org/en/stable/how-to/capture-warnings.html\n",
      "=========================== short test summary info ============================\n",
      "FAILED tasks/test_two.py::test_failing - assert (1, 2, 3) == (3, 2, 1)\n",
      "\u001b[31m\u001b[31m\u001b[1m1 failed\u001b[0m, \u001b[32m5 passed\u001b[0m, \u001b[33m1 warning\u001b[0m\u001b[31m in 0.01s\u001b[0m\u001b[0m\n"
     ]
    }
   ],
   "source": [
    "# The -q/--quiet option decreases the information reported. \n",
    "\n",
    "!pytest -q --tb=line"
   ]
  },
  {
   "cell_type": "code",
   "execution_count": 16,
   "metadata": {},
   "outputs": [
    {
     "name": "stdout",
     "output_type": "stream",
     "text": [
      "\u001b[1m============================= test session starts ==============================\u001b[0m\n",
      "platform linux -- Python 3.9.5, pytest-7.1.2, pluggy-1.0.0\n",
      "rootdir: /home/william/github/will-i-amv-books/python-testing-pytest/chapter01\n",
      "collected 6 items                                                              \u001b[0m\n",
      "\n",
      "tasks/test_four.py \u001b[32m.\u001b[0m\u001b[32m.\u001b[0m\u001b[33m                                                    [ 33%]\u001b[0m\n",
      "tasks/test_one.py \u001b[32m.\u001b[0m\u001b[33m                                                      [ 50%]\u001b[0m\n",
      "tasks/test_three.py \u001b[32m.\u001b[0m\u001b[32m.\u001b[0m\u001b[33m                                                   [ 83%]\u001b[0m\n",
      "tasks/test_two.py \u001b[31mF\u001b[0m\u001b[31m                                                      [100%]\u001b[0m\n",
      "\n",
      "=================================== FAILURES ===================================\n",
      "\u001b[31m\u001b[1m_________________________________ test_failing _________________________________\u001b[0m\n",
      "\n",
      "    \u001b[94mdef\u001b[39;49;00m \u001b[92mtest_failing\u001b[39;49;00m():\n",
      ">       \u001b[94massert\u001b[39;49;00m (\u001b[94m1\u001b[39;49;00m, \u001b[94m2\u001b[39;49;00m, \u001b[94m3\u001b[39;49;00m) == (\u001b[94m3\u001b[39;49;00m, \u001b[94m2\u001b[39;49;00m, \u001b[94m1\u001b[39;49;00m)\n",
      "\u001b[1m\u001b[31mE       assert (1, 2, 3) == (3, 2, 1)\u001b[0m\n",
      "\u001b[1m\u001b[31mE         At index 0 diff: 1 != 3\u001b[0m\n",
      "\u001b[1m\u001b[31mE         Use -v to get more diff\u001b[0m\n",
      "\n",
      "\n",
      "\u001b[1m\u001b[31mtasks/test_two.py\u001b[0m:2: AssertionError\n",
      "\u001b[33m=============================== warnings summary ===============================\u001b[0m\n",
      "tasks/test_three.py:17\n",
      "  /home/william/github/will-i-amv-books/python-testing-pytest/chapter01/tasks/test_three.py:17: PytestUnknownMarkWarning: Unknown pytest.mark.run_these_please - is this a typo?  You can register custom marks to avoid this warning - for details, see https://docs.pytest.org/en/stable/how-to/mark.html\n",
      "    @pytest.mark.run_these_please\n",
      "\n",
      "-- Docs: https://docs.pytest.org/en/stable/how-to/capture-warnings.html\n",
      "=========================== short test summary info ============================\n",
      "FAILED tasks/test_two.py::test_failing - assert (1, 2, 3) == (3, 2, 1)\n",
      "\u001b[31m==================== \u001b[31m\u001b[1m1 failed\u001b[0m, \u001b[32m5 passed\u001b[0m, \u001b[33m1 warning\u001b[0m\u001b[31m in 0.07s\u001b[0m\u001b[31m ====================\u001b[0m\n"
     ]
    }
   ],
   "source": [
    "# The -l/--showlocals option displays local variables for failing tests.\n",
    "\n",
    "!pytest -l tasks\n"
   ]
  },
  {
   "cell_type": "code",
   "execution_count": 17,
   "metadata": {},
   "outputs": [
    {
     "name": "stdout",
     "output_type": "stream",
     "text": [
      "\u001b[1m============================= test session starts ==============================\u001b[0m\n",
      "platform linux -- Python 3.9.5, pytest-7.1.2, pluggy-1.0.0\n",
      "rootdir: /home/william/github/will-i-amv-books/python-testing-pytest/chapter01\n",
      "collected 6 items                                                              \u001b[0m\n",
      "\n",
      "tasks/test_four.py \u001b[32m.\u001b[0m\u001b[32m.\u001b[0m\u001b[33m                                                    [ 33%]\u001b[0m\n",
      "tasks/test_one.py \u001b[32m.\u001b[0m\u001b[33m                                                      [ 50%]\u001b[0m\n",
      "tasks/test_three.py \u001b[32m.\u001b[0m\u001b[32m.\u001b[0m\u001b[33m                                                   [ 83%]\u001b[0m\n",
      "tasks/test_two.py \u001b[31mF\u001b[0m\u001b[31m                                                      [100%]\u001b[0m\n",
      "\n",
      "=================================== FAILURES ===================================\n",
      "\u001b[31m\u001b[1m_________________________________ test_failing _________________________________\u001b[0m\n",
      "\u001b[1m\u001b[31mtasks/test_two.py\u001b[0m:2: in test_failing\n",
      "    \u001b[94massert\u001b[39;49;00m (\u001b[94m1\u001b[39;49;00m, \u001b[94m2\u001b[39;49;00m, \u001b[94m3\u001b[39;49;00m) == (\u001b[94m3\u001b[39;49;00m, \u001b[94m2\u001b[39;49;00m, \u001b[94m1\u001b[39;49;00m)\n",
      "\u001b[1m\u001b[31mE   assert (1, 2, 3) == (3, 2, 1)\u001b[0m\n",
      "\u001b[1m\u001b[31mE     At index 0 diff: 1 != 3\u001b[0m\n",
      "\u001b[1m\u001b[31mE     Use -v to get more diff\u001b[0m\n",
      "\u001b[33m=============================== warnings summary ===============================\u001b[0m\n",
      "tasks/test_three.py:17\n",
      "  /home/william/github/will-i-amv-books/python-testing-pytest/chapter01/tasks/test_three.py:17: PytestUnknownMarkWarning: Unknown pytest.mark.run_these_please - is this a typo?  You can register custom marks to avoid this warning - for details, see https://docs.pytest.org/en/stable/how-to/mark.html\n",
      "    @pytest.mark.run_these_please\n",
      "\n",
      "-- Docs: https://docs.pytest.org/en/stable/how-to/capture-warnings.html\n",
      "=========================== short test summary info ============================\n",
      "FAILED tasks/test_two.py::test_failing - assert (1, 2, 3) == (3, 2, 1)\n",
      "\u001b[31m==================== \u001b[31m\u001b[1m1 failed\u001b[0m, \u001b[32m5 passed\u001b[0m, \u001b[33m1 warning\u001b[0m\u001b[31m in 0.08s\u001b[0m\u001b[31m ====================\u001b[0m\n"
     ]
    }
   ],
   "source": [
    "# The --tb option modifies the way tracebacks for failures are output\n",
    "\n",
    "!pytest --tb=short tasks # Shows a short description of the error\n"
   ]
  },
  {
   "cell_type": "code",
   "execution_count": 18,
   "metadata": {},
   "outputs": [
    {
     "name": "stdout",
     "output_type": "stream",
     "text": [
      "\u001b[1m============================= test session starts ==============================\u001b[0m\n",
      "platform linux -- Python 3.9.5, pytest-7.1.2, pluggy-1.0.0\n",
      "rootdir: /home/william/github/will-i-amv-books/python-testing-pytest/chapter01\n",
      "collected 6 items                                                              \u001b[0m\n",
      "\n",
      "tasks/test_four.py \u001b[32m.\u001b[0m\u001b[32m.\u001b[0m\u001b[33m                                                    [ 33%]\u001b[0m\n",
      "tasks/test_one.py \u001b[32m.\u001b[0m\u001b[33m                                                      [ 50%]\u001b[0m\n",
      "tasks/test_three.py \u001b[32m.\u001b[0m\u001b[32m.\u001b[0m\u001b[33m                                                   [ 83%]\u001b[0m\n",
      "tasks/test_two.py \u001b[31mF\u001b[0m\u001b[31m                                                      [100%]\u001b[0m\n",
      "\n",
      "=================================== FAILURES ===================================\n",
      "\u001b[31m\u001b[1m_________________________________ test_failing _________________________________\u001b[0m\n",
      "\n",
      "    \u001b[94mdef\u001b[39;49;00m \u001b[92mtest_failing\u001b[39;49;00m():\n",
      ">       \u001b[94massert\u001b[39;49;00m (\u001b[94m1\u001b[39;49;00m, \u001b[94m2\u001b[39;49;00m, \u001b[94m3\u001b[39;49;00m) == (\u001b[94m3\u001b[39;49;00m, \u001b[94m2\u001b[39;49;00m, \u001b[94m1\u001b[39;49;00m)\n",
      "\u001b[1m\u001b[31mE       assert (1, 2, 3) == (3, 2, 1)\u001b[0m\n",
      "\u001b[1m\u001b[31mE         At index 0 diff: 1 != 3\u001b[0m\n",
      "\u001b[1m\u001b[31mE         Use -v to get more diff\u001b[0m\n",
      "\n",
      "\u001b[1m\u001b[31mtasks/test_two.py\u001b[0m:2: AssertionError\n",
      "\u001b[33m=============================== warnings summary ===============================\u001b[0m\n",
      "tasks/test_three.py:17\n",
      "  /home/william/github/will-i-amv-books/python-testing-pytest/chapter01/tasks/test_three.py:17: PytestUnknownMarkWarning: Unknown pytest.mark.run_these_please - is this a typo?  You can register custom marks to avoid this warning - for details, see https://docs.pytest.org/en/stable/how-to/mark.html\n",
      "    @pytest.mark.run_these_please\n",
      "\n",
      "-- Docs: https://docs.pytest.org/en/stable/how-to/capture-warnings.html\n",
      "============================= slowest 3 durations ==============================\n",
      "\n",
      "(3 durations < 0.005s hidden.  Use -vv to show these durations.)\n",
      "=========================== short test summary info ============================\n",
      "FAILED tasks/test_two.py::test_failing - assert (1, 2, 3) == (3, 2, 1)\n",
      "\u001b[31m==================== \u001b[31m\u001b[1m1 failed\u001b[0m, \u001b[32m5 passed\u001b[0m, \u001b[33m1 warning\u001b[0m\u001b[31m in 0.07s\u001b[0m\u001b[31m ====================\u001b[0m\n"
     ]
    }
   ],
   "source": [
    "# The --durations=N option reports the slowest N number of tests/setups/teardowns after the tests run.\n",
    "\n",
    "!pytest --durations=3 tasks\n"
   ]
  }
 ],
 "metadata": {
  "kernelspec": {
   "display_name": "Python 3.9.5 ('env': venv)",
   "language": "python",
   "name": "python3"
  },
  "language_info": {
   "codemirror_mode": {
    "name": "ipython",
    "version": 3
   },
   "file_extension": ".py",
   "mimetype": "text/x-python",
   "name": "python",
   "nbconvert_exporter": "python",
   "pygments_lexer": "ipython3",
   "version": "3.9.5"
  },
  "orig_nbformat": 4,
  "vscode": {
   "interpreter": {
    "hash": "597ed2a883dd92248704c39695e4adb59d169bf662e25147d30ca9618a6f5c2f"
   }
  }
 },
 "nbformat": 4,
 "nbformat_minor": 2
}
