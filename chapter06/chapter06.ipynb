{
 "cells": [
  {
   "cell_type": "markdown",
   "metadata": {},
   "source": [
    "# pytest configuration"
   ]
  },
  {
   "cell_type": "code",
   "execution_count": 1,
   "metadata": {},
   "outputs": [],
   "source": [
    "ROOT = '../tasks_proj'\n",
    "TESTS = f'{ROOT}/tests'\n",
    "UNIT_TESTS = f'{TESTS}/unit'\n",
    "FUNC_TESTS = f'{TESTS}/func'\n"
   ]
  },
  {
   "cell_type": "code",
   "execution_count": 2,
   "metadata": {},
   "outputs": [
    {
     "name": "stdout",
     "output_type": "stream",
     "text": [
      "@pytest.mark.get: Example test marker 1\n",
      "@pytest.mark.smoke: Example test marker 2\n"
     ]
    }
   ],
   "source": [
    "# See custom markers registered in pytest.ini\n",
    "\n",
    "!pytest --markers {TESTS} | grep 'Example test marker'\n"
   ]
  },
  {
   "cell_type": "code",
   "execution_count": 3,
   "metadata": {},
   "outputs": [
    {
     "name": "stdout",
     "output_type": "stream",
     "text": [
      "\u001b[1m============================= test session starts ==============================\u001b[0m\n",
      "platform linux -- Python 3.9.5, pytest-7.1.2, pluggy-1.0.0\n",
      "rootdir: /home/william/github/will-i-amv-books/python-testing-pytest/tasks_proj, configfile: pytest.ini\n",
      "collected 0 items                                                              \u001b[0m\n",
      "\n",
      "\u001b[33m=============================== warnings summary ===============================\u001b[0m\n",
      "../env/lib/python3.9/site-packages/_pytest/config/__init__.py:1198\n",
      "  /home/william/github/will-i-amv-books/python-testing-pytest/env/lib/python3.9/site-packages/_pytest/config/__init__.py:1198: PytestRemovedIn8Warning: The --strict option is deprecated, use --strict-markers instead.\n",
      "    self.issue_config_time_warning(\n",
      "\n",
      "-- Docs: https://docs.pytest.org/en/stable/how-to/capture-warnings.html\n",
      "\u001b[33m============================== \u001b[33m\u001b[1m1 warning\u001b[0m\u001b[33m in 0.00s\u001b[0m\u001b[33m ==============================\u001b[0m\n",
      "\u001b[31mERROR: file or directory not found: ;\n",
      "\u001b[0m\n"
     ]
    }
   ],
   "source": [
    "# Running '--strict' with registered markers\n",
    "\n",
    "!pytest --strict -m smoke {TESTS}\n"
   ]
  },
  {
   "cell_type": "code",
   "execution_count": 8,
   "metadata": {},
   "outputs": [
    {
     "name": "stdout",
     "output_type": "stream",
     "text": [
      "\u001b[1m============================= test session starts ==============================\u001b[0m\n",
      "platform linux -- Python 3.9.5, pytest-7.1.2, pluggy-1.0.0\n",
      "rootdir: /home/william/github/will-i-amv-books/python-testing-pytest/chapter06\n",
      "collected 1 item / 1 error                                                     \u001b[0m\n",
      "\n",
      "==================================== ERRORS ====================================\n",
      "\u001b[31m\u001b[1m____________ ERROR collecting example_1/without_init/b/test_foo.py _____________\u001b[0m\n",
      "\u001b[31mimport file mismatch:\n",
      "imported module 'test_foo' has this __file__ attribute:\n",
      "  /home/william/github/will-i-amv-books/python-testing-pytest/chapter06/example_1/without_init/a/test_foo.py\n",
      "which is not the same as the test file we want to collect:\n",
      "  /home/william/github/will-i-amv-books/python-testing-pytest/chapter06/example_1/without_init/b/test_foo.py\n",
      "HINT: remove __pycache__ / .pyc files and/or use a unique basename for your test file modules\u001b[0m\n",
      "=========================== short test summary info ============================\n",
      "ERROR example_1/without_init/b/test_foo.py\n",
      "!!!!!!!!!!!!!!!!!!!! Interrupted: 1 error during collection !!!!!!!!!!!!!!!!!!!!\n",
      "\u001b[31m=============================== \u001b[31m\u001b[1m1 error\u001b[0m\u001b[31m in 0.09s\u001b[0m\u001b[31m ===============================\u001b[0m\n"
     ]
    }
   ],
   "source": [
    "# Without __init__.py files in each test sub-directory, test modules with the same name \n",
    "# can't be executed in parallel\n",
    "\n",
    "!pytest ./example_1/without_init/\n"
   ]
  },
  {
   "cell_type": "code",
   "execution_count": 10,
   "metadata": {},
   "outputs": [
    {
     "name": "stdout",
     "output_type": "stream",
     "text": [
      "\u001b[1m============================= test session starts ==============================\u001b[0m\n",
      "platform linux -- Python 3.9.5, pytest-7.1.2, pluggy-1.0.0\n",
      "rootdir: /home/william/github/will-i-amv-books/python-testing-pytest/chapter06\n",
      "collected 2 items                                                              \u001b[0m\n",
      "\n",
      "example_1/with_init/a/test_foo.py \u001b[32m.\u001b[0m\u001b[32m                                      [ 50%]\u001b[0m\n",
      "example_1/with_init/b/test_foo.py \u001b[32m.\u001b[0m\u001b[32m                                      [100%]\u001b[0m\n",
      "\n",
      "\u001b[32m============================== \u001b[32m\u001b[1m2 passed\u001b[0m\u001b[32m in 0.01s\u001b[0m\u001b[32m ===============================\u001b[0m\n"
     ]
    }
   ],
   "source": [
    "# With __init__.py files in each test sub-directory, the last issue is fixed\n",
    "\n",
    "!pytest ./example_1/with_init/\n"
   ]
  }
 ],
 "metadata": {
  "kernelspec": {
   "display_name": "Python 3.9.5 ('env': venv)",
   "language": "python",
   "name": "python3"
  },
  "language_info": {
   "codemirror_mode": {
    "name": "ipython",
    "version": 3
   },
   "file_extension": ".py",
   "mimetype": "text/x-python",
   "name": "python",
   "nbconvert_exporter": "python",
   "pygments_lexer": "ipython3",
   "version": "3.9.5"
  },
  "orig_nbformat": 4,
  "vscode": {
   "interpreter": {
    "hash": "597ed2a883dd92248704c39695e4adb59d169bf662e25147d30ca9618a6f5c2f"
   }
  }
 },
 "nbformat": 4,
 "nbformat_minor": 2
}
