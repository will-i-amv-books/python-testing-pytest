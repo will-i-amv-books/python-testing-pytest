{
 "cells": [
  {
   "cell_type": "markdown",
   "metadata": {},
   "source": [
    "# pytest plugins"
   ]
  },
  {
   "cell_type": "code",
   "execution_count": 1,
   "metadata": {},
   "outputs": [],
   "source": [
    "ROOT = '../tasks_proj'\n",
    "TESTS = f'{ROOT}/tests'\n",
    "UNIT_TESTS = f'{TESTS}/unit'\n",
    "FUNC_TESTS = f'{TESTS}/func'\n"
   ]
  },
  {
   "cell_type": "code",
   "execution_count": 2,
   "metadata": {},
   "outputs": [
    {
     "name": "stdout",
     "output_type": "stream",
     "text": [
      "\u001b[1m============================= test session starts ==============================\u001b[0m\n",
      "platform linux -- Python 3.9.5, pytest-7.1.2, pluggy-1.0.0\n",
      "Thanks for running the tests.\n",
      "rootdir: /home/william/github/will-i-amv-books/python-testing-pytest/tasks_proj/tests, configfile: pytest.ini\n",
      "collected 9 items / 7 deselected / 2 selected                                  \u001b[0m\n",
      "\n",
      "../tasks_proj/tests/func/test_api_exceptions.py \u001b[32m.\u001b[0m\u001b[31mO\u001b[0m\u001b[31m                       [100%]\u001b[0m\n",
      "\n",
      "=================================== FAILURES ===================================\n",
      "\u001b[31m\u001b[1m_______________________ TestAdd.test_done_not_bool[tiny] _______________________\u001b[0m\n",
      "\n",
      "self = <func.test_api_exceptions.TestAdd object at 0x7f1279328190>\n",
      "\n",
      "    \u001b[94mdef\u001b[39;49;00m \u001b[92mtest_done_not_bool\u001b[39;49;00m(\u001b[96mself\u001b[39;49;00m):\n",
      "        \u001b[33m\"\"\"Should raise an exception if done is not a bool.\"\"\"\u001b[39;49;00m\n",
      "        \u001b[94mwith\u001b[39;49;00m pytest.raises(\u001b[96mValueError\u001b[39;49;00m):\n",
      ">           tasks.add(Task(summary=\u001b[33m'\u001b[39;49;00m\u001b[33msummary\u001b[39;49;00m\u001b[33m'\u001b[39;49;00m, done=\u001b[33m'\u001b[39;49;00m\u001b[33mTrue\u001b[39;49;00m\u001b[33m'\u001b[39;49;00m))\n",
      "\u001b[1m\u001b[31mE           Failed: DID NOT RAISE <class 'ValueError'>\u001b[0m\n",
      "\n",
      "\u001b[1m\u001b[31m../tasks_proj/tests/func/test_api_exceptions.py\u001b[0m:19: Failed\n",
      "=========================== short test summary info ============================\n",
      "OPPORTUNITY for improvement ../tasks_proj/tests/func/test_api_exceptions.py::TestAdd::test_done_not_bool[tiny]\n",
      "\u001b[31m================== \u001b[31m\u001b[1m1 failed\u001b[0m, \u001b[32m1 passed\u001b[0m, \u001b[33m7 deselected\u001b[0m\u001b[31m in 0.08s\u001b[0m\u001b[31m ===================\u001b[0m\n"
     ]
    }
   ],
   "source": [
    "# We can add features to pytest output by adding code to 'conftest.py'. \n",
    "# In this example, we change the test failure label from 'F' to 'O' and add a greeting message, \n",
    "# and activate both features with a '--nice' flag\n",
    "\n",
    "!pytest --nice -k TestAdd {FUNC_TESTS}/test_api_exceptions.py\n"
   ]
  },
  {
   "cell_type": "code",
   "execution_count": 3,
   "metadata": {},
   "outputs": [
    {
     "name": "stdout",
     "output_type": "stream",
     "text": [
      "Processing ./pytest-nice\n",
      "\u001b[33m  DEPRECATION: A future pip version will change local packages to be built in-place without first copying to a temporary directory. We recommend you use --use-feature=in-tree-build to test your packages with this new behavior before it becomes the default.\n",
      "   pip 21.3 will remove support for this functionality. You can find discussion regarding this at https://github.com/pypa/pip/issues/7555.\u001b[0m\n",
      "Requirement already satisfied: pytest in /home/william/github/will-i-amv-books/python-testing-pytest/env/lib/python3.9/site-packages (from pytest-nice==0.1.0) (7.1.2)\n",
      "Requirement already satisfied: pluggy<2.0,>=0.12 in /home/william/github/will-i-amv-books/python-testing-pytest/env/lib/python3.9/site-packages (from pytest->pytest-nice==0.1.0) (1.0.0)\n",
      "Requirement already satisfied: attrs>=19.2.0 in /home/william/github/will-i-amv-books/python-testing-pytest/env/lib/python3.9/site-packages (from pytest->pytest-nice==0.1.0) (21.4.0)\n",
      "Requirement already satisfied: packaging in /home/william/github/will-i-amv-books/python-testing-pytest/env/lib/python3.9/site-packages (from pytest->pytest-nice==0.1.0) (21.3)\n",
      "Requirement already satisfied: tomli>=1.0.0 in /home/william/github/will-i-amv-books/python-testing-pytest/env/lib/python3.9/site-packages (from pytest->pytest-nice==0.1.0) (2.0.1)\n",
      "Requirement already satisfied: iniconfig in /home/william/github/will-i-amv-books/python-testing-pytest/env/lib/python3.9/site-packages (from pytest->pytest-nice==0.1.0) (1.1.1)\n",
      "Requirement already satisfied: py>=1.8.2 in /home/william/github/will-i-amv-books/python-testing-pytest/env/lib/python3.9/site-packages (from pytest->pytest-nice==0.1.0) (1.11.0)\n",
      "Requirement already satisfied: pyparsing!=3.0.5,>=2.0.2 in /home/william/github/will-i-amv-books/python-testing-pytest/env/lib/python3.9/site-packages (from packaging->pytest->pytest-nice==0.1.0) (3.0.9)\n",
      "Using legacy 'setup.py install' for pytest-nice, since package 'wheel' is not installed.\n",
      "Installing collected packages: pytest-nice\n",
      "    Running setup.py install for pytest-nice ... \u001b[?25ldone\n",
      "\u001b[?25hSuccessfully installed pytest-nice-0.1.0\n",
      "\u001b[33mWARNING: You are using pip version 21.1.1; however, version 22.3.1 is available.\n",
      "You should consider upgrading via the '/home/william/github/will-i-amv-books/python-testing-pytest/env/bin/python3 -m pip install --upgrade pip' command.\u001b[0m\n"
     ]
    }
   ],
   "source": [
    "# We can move the last code to an independent module, which constitutes a pytest plugin,\n",
    "# which can be distributed and installed like any other python package.\n",
    "# In this example, we call our plugin 'pytest-nice' and install it\n",
    "\n",
    "!pip install ./pytest-nice\n"
   ]
  },
  {
   "cell_type": "code",
   "execution_count": 4,
   "metadata": {},
   "outputs": [
    {
     "name": "stdout",
     "output_type": "stream",
     "text": [
      "\u001b[1m============================= test session starts ==============================\u001b[0m\n",
      "platform linux -- Python 3.9.5, pytest-7.1.2, pluggy-1.0.0\n",
      "rootdir: /home/william/github/will-i-amv-books/python-testing-pytest/chapter05/pytest-nice\n",
      "plugins: nice-0.1.0\n",
      "collected 7 items                                                              \u001b[0m\n",
      "\n",
      "pytest-nice/tests/test_nice.py \u001b[32m.\u001b[0m\u001b[32m.\u001b[0m\u001b[32m.\u001b[0m\u001b[32m.\u001b[0m\u001b[32m.\u001b[0m\u001b[32m.\u001b[0m\u001b[32m.\u001b[0m\u001b[32m                                   [100%]\u001b[0m\n",
      "\n",
      "\u001b[32m============================== \u001b[32m\u001b[1m7 passed\u001b[0m\u001b[32m in 0.66s\u001b[0m\u001b[32m ===============================\u001b[0m\n"
     ]
    }
   ],
   "source": [
    "# We can also test a plugin like any other python code with the 'pytester' package\n",
    "\n",
    "!pytest ./pytest-nice/tests\n"
   ]
  },
  {
   "cell_type": "code",
   "execution_count": 6,
   "metadata": {},
   "outputs": [
    {
     "name": "stdout",
     "output_type": "stream",
     "text": [
      "Found existing installation: pytest-nice 0.1.0\n",
      "Uninstalling pytest-nice-0.1.0:\n",
      "  Successfully uninstalled pytest-nice-0.1.0\n"
     ]
    }
   ],
   "source": [
    "# The plugin can be uninstalled like any other python package\n",
    "\n",
    "!pip uninstall -y pytest-nice\n"
   ]
  },
  {
   "cell_type": "code",
   "execution_count": 7,
   "metadata": {},
   "outputs": [
    {
     "name": "stdout",
     "output_type": "stream",
     "text": [
      "running sdist\n",
      "running egg_info\n",
      "writing pytest_nice.egg-info/PKG-INFO\n",
      "writing dependency_links to pytest_nice.egg-info/dependency_links.txt\n",
      "writing entry points to pytest_nice.egg-info/entry_points.txt\n",
      "writing requirements to pytest_nice.egg-info/requires.txt\n",
      "writing top-level names to pytest_nice.egg-info/top_level.txt\n",
      "file pytest_nice.py (for module pytest_nice) not found\n",
      "reading manifest file 'pytest_nice.egg-info/SOURCES.txt'\n",
      "writing manifest file 'pytest_nice.egg-info/SOURCES.txt'\n",
      "warning: sdist: standard file not found: should have one of README, README.rst, README.txt, README.md\n",
      "\n",
      "running check\n",
      "creating pytest-nice-0.1.0\n",
      "creating pytest-nice-0.1.0/pytest_nice.egg-info\n",
      "copying files to pytest-nice-0.1.0...\n",
      "copying pytest_nice.egg-info/PKG-INFO -> pytest-nice-0.1.0/pytest_nice.egg-info\n",
      "copying pytest_nice.egg-info/SOURCES.txt -> pytest-nice-0.1.0/pytest_nice.egg-info\n",
      "copying pytest_nice.egg-info/dependency_links.txt -> pytest-nice-0.1.0/pytest_nice.egg-info\n",
      "copying pytest_nice.egg-info/entry_points.txt -> pytest-nice-0.1.0/pytest_nice.egg-info\n",
      "copying pytest_nice.egg-info/requires.txt -> pytest-nice-0.1.0/pytest_nice.egg-info\n",
      "copying pytest_nice.egg-info/top_level.txt -> pytest-nice-0.1.0/pytest_nice.egg-info\n",
      "Writing pytest-nice-0.1.0/setup.cfg\n",
      "Creating tar archive\n",
      "removing 'pytest-nice-0.1.0' (and everything under it)\n"
     ]
    }
   ],
   "source": [
    "# We can create a distribution file from our plugin with the following command\n",
    "\n",
    "!python ./pytest-nice/setup.py sdist\n"
   ]
  }
 ],
 "metadata": {
  "kernelspec": {
   "display_name": "Python 3.9.5 ('env': venv)",
   "language": "python",
   "name": "python3"
  },
  "language_info": {
   "codemirror_mode": {
    "name": "ipython",
    "version": 3
   },
   "file_extension": ".py",
   "mimetype": "text/x-python",
   "name": "python",
   "nbconvert_exporter": "python",
   "pygments_lexer": "ipython3",
   "version": "3.9.5"
  },
  "orig_nbformat": 4,
  "vscode": {
   "interpreter": {
    "hash": "597ed2a883dd92248704c39695e4adb59d169bf662e25147d30ca9618a6f5c2f"
   }
  }
 },
 "nbformat": 4,
 "nbformat_minor": 2
}
